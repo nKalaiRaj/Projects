{
 "cells": [
  {
   "cell_type": "code",
   "execution_count": 206,
   "id": "b467c185",
   "metadata": {},
   "outputs": [],
   "source": [
    "# importing libraries\n",
    "import numpy as np\n",
    "import pandas as pd\n",
    "import matplotlib.pyplot as plt\n",
    "from sklearn.datasets import load_iris\n",
    "from sklearn.model_selection import train_test_split\n",
    "from sklearn.linear_model import LogisticRegression\n",
    "from sklearn import preprocessing\n",
    "from sklearn.metrics import f1_score, precision_score, recall_score\n",
    "\n"
   ]
  },
  {
   "cell_type": "code",
   "execution_count": 207,
   "id": "c25bb930",
   "metadata": {},
   "outputs": [
    {
     "data": {
      "text/html": [
       "<div>\n",
       "<style scoped>\n",
       "    .dataframe tbody tr th:only-of-type {\n",
       "        vertical-align: middle;\n",
       "    }\n",
       "\n",
       "    .dataframe tbody tr th {\n",
       "        vertical-align: top;\n",
       "    }\n",
       "\n",
       "    .dataframe thead th {\n",
       "        text-align: right;\n",
       "    }\n",
       "</style>\n",
       "<table border=\"1\" class=\"dataframe\">\n",
       "  <thead>\n",
       "    <tr style=\"text-align: right;\">\n",
       "      <th></th>\n",
       "      <th>SepalLengthCm</th>\n",
       "      <th>SepalWidthCm</th>\n",
       "      <th>PetalLengthCm</th>\n",
       "      <th>PetalWidthCm</th>\n",
       "      <th>Species</th>\n",
       "    </tr>\n",
       "    <tr>\n",
       "      <th>Id</th>\n",
       "      <th></th>\n",
       "      <th></th>\n",
       "      <th></th>\n",
       "      <th></th>\n",
       "      <th></th>\n",
       "    </tr>\n",
       "  </thead>\n",
       "  <tbody>\n",
       "    <tr>\n",
       "      <th>1</th>\n",
       "      <td>5.1</td>\n",
       "      <td>3.5</td>\n",
       "      <td>1.4</td>\n",
       "      <td>0.2</td>\n",
       "      <td>Iris-setosa</td>\n",
       "    </tr>\n",
       "    <tr>\n",
       "      <th>2</th>\n",
       "      <td>4.9</td>\n",
       "      <td>3.0</td>\n",
       "      <td>1.4</td>\n",
       "      <td>0.2</td>\n",
       "      <td>Iris-setosa</td>\n",
       "    </tr>\n",
       "    <tr>\n",
       "      <th>3</th>\n",
       "      <td>4.7</td>\n",
       "      <td>3.2</td>\n",
       "      <td>1.3</td>\n",
       "      <td>0.2</td>\n",
       "      <td>Iris-setosa</td>\n",
       "    </tr>\n",
       "    <tr>\n",
       "      <th>4</th>\n",
       "      <td>4.6</td>\n",
       "      <td>3.1</td>\n",
       "      <td>1.5</td>\n",
       "      <td>0.2</td>\n",
       "      <td>Iris-setosa</td>\n",
       "    </tr>\n",
       "    <tr>\n",
       "      <th>5</th>\n",
       "      <td>5.0</td>\n",
       "      <td>3.6</td>\n",
       "      <td>1.4</td>\n",
       "      <td>0.2</td>\n",
       "      <td>Iris-setosa</td>\n",
       "    </tr>\n",
       "  </tbody>\n",
       "</table>\n",
       "</div>"
      ],
      "text/plain": [
       "    SepalLengthCm  SepalWidthCm  PetalLengthCm  PetalWidthCm      Species\n",
       "Id                                                                       \n",
       "1             5.1           3.5            1.4           0.2  Iris-setosa\n",
       "2             4.9           3.0            1.4           0.2  Iris-setosa\n",
       "3             4.7           3.2            1.3           0.2  Iris-setosa\n",
       "4             4.6           3.1            1.5           0.2  Iris-setosa\n",
       "5             5.0           3.6            1.4           0.2  Iris-setosa"
      ]
     },
     "execution_count": 207,
     "metadata": {},
     "output_type": "execute_result"
    }
   ],
   "source": [
    "#Read the dataset\n",
    "iris_df = pd.read_csv(\"Iris.csv\",index_col=0)\n",
    "iris_df.head()\n"
   ]
  },
  {
   "cell_type": "code",
   "execution_count": 208,
   "id": "6ef87072",
   "metadata": {},
   "outputs": [
    {
     "data": {
      "text/plain": [
       "SepalLengthCm    float64\n",
       "SepalWidthCm     float64\n",
       "PetalLengthCm    float64\n",
       "PetalWidthCm     float64\n",
       "Species           object\n",
       "dtype: object"
      ]
     },
     "execution_count": 208,
     "metadata": {},
     "output_type": "execute_result"
    }
   ],
   "source": [
    "iris_df.dtypes"
   ]
  },
  {
   "cell_type": "code",
   "execution_count": 209,
   "id": "4e4bb49c",
   "metadata": {},
   "outputs": [
    {
     "data": {
      "text/plain": [
       "Id\n",
       "1      0\n",
       "2      0\n",
       "3      0\n",
       "4      0\n",
       "5      0\n",
       "      ..\n",
       "146    1\n",
       "147    1\n",
       "148    1\n",
       "149    1\n",
       "150    1\n",
       "Name: Species, Length: 150, dtype: int32"
      ]
     },
     "execution_count": 209,
     "metadata": {},
     "output_type": "execute_result"
    }
   ],
   "source": [
    "#Encoding the dependent variable y 'Iris-setosa' as 0 and all other variable as 1\n",
    "iris_df['Species'] = np.where((iris_df.Species == 'Iris-setosa'),0,1)\n",
    "\n",
    "iris_df['Species']"
   ]
  },
  {
   "cell_type": "code",
   "execution_count": 210,
   "id": "cdedae64",
   "metadata": {},
   "outputs": [],
   "source": [
    "#Independent variable assigned as x\n",
    "X=iris_df.iloc[:,[0,1,2,3]].values\n",
    "X = X.reshape(-1, 4)"
   ]
  },
  {
   "cell_type": "code",
   "execution_count": 211,
   "id": "7445e0be",
   "metadata": {},
   "outputs": [],
   "source": [
    "#Dependent variable assigned as y\n",
    "y = iris_df.iloc[:,[4]].values\n",
    "y = y.reshape(-1, 1)"
   ]
  },
  {
   "cell_type": "markdown",
   "id": "46e3ffd6",
   "metadata": {},
   "source": [
    "### Split the data into train and test"
   ]
  },
  {
   "cell_type": "code",
   "execution_count": 212,
   "id": "2e0fc0b2",
   "metadata": {},
   "outputs": [],
   "source": [
    "#Spliting the dataset as train and test set\n",
    "\n",
    "X = preprocessing.scale(X) #scale the data so that it is easier to fit\n",
    "\n",
    "X_train, X_test, y_train, y_test = train_test_split(X,y,test_size=0.2, random_state=0)\n"
   ]
  },
  {
   "cell_type": "markdown",
   "id": "2f0a270b",
   "metadata": {},
   "source": [
    "### Fit the model and make prediction on test set"
   ]
  },
  {
   "cell_type": "code",
   "execution_count": 213,
   "id": "164189da",
   "metadata": {},
   "outputs": [
    {
     "name": "stderr",
     "output_type": "stream",
     "text": [
      "C:\\Users\\User\\anaconda3\\lib\\site-packages\\sklearn\\utils\\validation.py:993: DataConversionWarning: A column-vector y was passed when a 1d array was expected. Please change the shape of y to (n_samples, ), for example using ravel().\n",
      "  y = column_or_1d(y, warn=True)\n"
     ]
    }
   ],
   "source": [
    "# fit a model\n",
    "log_reg = LogisticRegression()\n",
    "log_reg.fit(X_train, y_train)\n",
    "\n",
    "# make predictions on test data\n",
    "y_pred = log_reg.predict(X_test).reshape(-1,1)"
   ]
  },
  {
   "cell_type": "code",
   "execution_count": 214,
   "id": "f2aa26a9",
   "metadata": {},
   "outputs": [
    {
     "name": "stdout",
     "output_type": "stream",
     "text": [
      "Accuracy: 1.0\n"
     ]
    }
   ],
   "source": [
    "# Use score method to get accuracy of model\n",
    "score = log_reg.score(X_test, y_test)\n",
    "\n",
    "print('Accuracy: {}'.format(score))\n"
   ]
  },
  {
   "cell_type": "markdown",
   "id": "20f7ac76",
   "metadata": {},
   "source": [
    "### Confusion Matrix"
   ]
  },
  {
   "cell_type": "code",
   "execution_count": 215,
   "id": "ba3c243d",
   "metadata": {},
   "outputs": [
    {
     "data": {
      "text/plain": [
       "array([[11,  0],\n",
       "       [ 0, 19]], dtype=int64)"
      ]
     },
     "execution_count": 215,
     "metadata": {},
     "output_type": "execute_result"
    }
   ],
   "source": [
    "from sklearn.metrics import confusion_matrix\n",
    "\n",
    "conf_mat = confusion_matrix(y_test, y_pred)\n",
    "conf_mat"
   ]
  },
  {
   "cell_type": "code",
   "execution_count": 216,
   "id": "e5a61be9",
   "metadata": {},
   "outputs": [
    {
     "data": {
      "image/png": "[encoded data removed]",
      "text/plain": [
       "<Figure size 480x480 with 2 Axes>"
      ]
     },
     "metadata": {},
     "output_type": "display_data"
    }
   ],
   "source": [
    "# Show confusion matrix in a separate window\n",
    "plt.matshow(conf_mat)\n",
    "plt.title('Confusion matrix')\n",
    "plt.colorbar()\n",
    "plt.ylabel('True label')\n",
    "plt.xlabel('Predicted label')\n",
    "plt.show()"
   ]
  },
  {
   "cell_type": "markdown",
   "id": "978b8252",
   "metadata": {},
   "source": [
    "From the above confusion Matrix ,its clear that full green iris belong setosa and rest yellow predicts non-setosa"
   ]
  },
  {
   "cell_type": "code",
   "execution_count": 217,
   "id": "d60a6bbf",
   "metadata": {},
   "outputs": [
    {
     "name": "stdout",
     "output_type": "stream",
     "text": [
      "Average f1 score is: 1.0\n"
     ]
    }
   ],
   "source": [
    "from sklearn.metrics import f1_score, precision_score, recall_score\n",
    "\n",
    "# average f1 score\n",
    "av_f1 = f1_score(y_test, y_pred, average='binary')\n",
    "print('Average f1 score is:',av_f1)\n",
    "\n",
    "# f1 score per class\n",
    "f = f1_score(y_test, y_pred, average=None)\n",
    "lowest_score = min(f)\n"
   ]
  },
  {
   "cell_type": "code",
   "execution_count": 218,
   "id": "dc3bda99",
   "metadata": {},
   "outputs": [
    {
     "name": "stdout",
     "output_type": "stream",
     "text": [
      "Precision: 1.0\n",
      "Recall: 1.0\n"
     ]
    }
   ],
   "source": [
    "# precision and recall for ('Iris-setosa')\n",
    "prec = precision_score(y_test == 0, y_pred == 0,average='binary')\n",
    "rec = recall_score(y_test == 0, y_pred == 0,average='binary')\n",
    "\n",
    "print('Precision:', prec)\n",
    "print('Recall:', rec)"
   ]
  },
  {
   "cell_type": "markdown",
   "id": "df88d6f1",
   "metadata": {},
   "source": [
    "From the above information we can conclude that model is likely have similar Precision and similar Recall for Iris-setosa class."
   ]
  },
  {
   "cell_type": "code",
   "execution_count": 220,
   "id": "b582780b",
   "metadata": {},
   "outputs": [
    {
     "name": "stdout",
     "output_type": "stream",
     "text": [
      " Calculated Accuracy is : 1.0\n",
      " Calculated Precision is : 1.0\n",
      " Calculated Recall is : 1.0\n"
     ]
    }
   ],
   "source": [
    "#Calculating Accuracy , Precision , Recall\n",
    "TP = 11 \n",
    "TN = 19\n",
    "FP = 0 \n",
    "FN = 0\n",
    "\n",
    "Accuracy = (TP + TN)/(TP+TN+FN+FP)\n",
    "\n",
    "Precision = TP / (TP+FP)\n",
    "\n",
    "Recall = TP / (TP+FN)\n",
    "\n",
    "print(' Calculated Accuracy is :',Accuracy)\n",
    "print(' Calculated Precision is :',Precision)\n",
    "print(' Calculated Recall is :',Recall)"
   ]
  },
  {
   "cell_type": "markdown",
   "id": "cbec4fea",
   "metadata": {},
   "source": [
    "By Calculating with the formula, the Accuracy,Precision and Recall seems to be similar"
   ]
  },
  {
   "cell_type": "code",
   "execution_count": null,
   "id": "9f11628a",
   "metadata": {},
   "outputs": [],
   "source": []
  }
 ],
 "metadata": {
  "kernelspec": {
   "display_name": "Python 3 (ipykernel)",
   "language": "python",
   "name": "python3"
  },
  "language_info": {
   "codemirror_mode": {
    "name": "ipython",
    "version": 3
   },
   "file_extension": ".py",
   "mimetype": "text/x-python",
   "name": "python",
   "nbconvert_exporter": "python",
   "pygments_lexer": "ipython3",
   "version": "3.9.13"
  }
 },
 "nbformat": 4,
 "nbformat_minor": 5
}
