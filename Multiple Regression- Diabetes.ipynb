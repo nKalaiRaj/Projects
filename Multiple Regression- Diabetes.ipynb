{
 "cells": [
  {
   "cell_type": "code",
   "execution_count": 237,
   "id": "b1ff8a68",
   "metadata": {},
   "outputs": [],
   "source": [
    "#Importing Libraries\n",
    "import numpy as np\n",
    "import pandas as pd\n",
    "import matplotlib.pyplot as plt\n",
    "import seaborn as sns\n",
    "from sklearn.linear_model import LinearRegression\n",
    "from sklearn.preprocessing import MinMaxScaler\n"
   ]
  },
  {
   "cell_type": "code",
   "execution_count": 238,
   "id": "d3b2b464",
   "metadata": {},
   "outputs": [
    {
     "data": {
      "text/html": [
       "<div>\n",
       "<style scoped>\n",
       "    .dataframe tbody tr th:only-of-type {\n",
       "        vertical-align: middle;\n",
       "    }\n",
       "\n",
       "    .dataframe tbody tr th {\n",
       "        vertical-align: top;\n",
       "    }\n",
       "\n",
       "    .dataframe thead th {\n",
       "        text-align: right;\n",
       "    }\n",
       "</style>\n",
       "<table border=\"1\" class=\"dataframe\">\n",
       "  <thead>\n",
       "    <tr style=\"text-align: right;\">\n",
       "      <th></th>\n",
       "      <th>age</th>\n",
       "      <th>sex</th>\n",
       "      <th>bmi</th>\n",
       "      <th>bp</th>\n",
       "      <th>s1</th>\n",
       "      <th>s2</th>\n",
       "      <th>s3</th>\n",
       "      <th>s4</th>\n",
       "      <th>s5</th>\n",
       "      <th>s6</th>\n",
       "      <th>Progression</th>\n",
       "    </tr>\n",
       "  </thead>\n",
       "  <tbody>\n",
       "    <tr>\n",
       "      <th>0</th>\n",
       "      <td>0.038076</td>\n",
       "      <td>0.050680</td>\n",
       "      <td>0.061696</td>\n",
       "      <td>0.021872</td>\n",
       "      <td>-0.044223</td>\n",
       "      <td>-0.034821</td>\n",
       "      <td>-0.043401</td>\n",
       "      <td>-0.002592</td>\n",
       "      <td>0.019907</td>\n",
       "      <td>-0.017646</td>\n",
       "      <td>151.0</td>\n",
       "    </tr>\n",
       "    <tr>\n",
       "      <th>1</th>\n",
       "      <td>-0.001882</td>\n",
       "      <td>-0.044642</td>\n",
       "      <td>-0.051474</td>\n",
       "      <td>-0.026328</td>\n",
       "      <td>-0.008449</td>\n",
       "      <td>-0.019163</td>\n",
       "      <td>0.074412</td>\n",
       "      <td>-0.039493</td>\n",
       "      <td>-0.068332</td>\n",
       "      <td>-0.092204</td>\n",
       "      <td>75.0</td>\n",
       "    </tr>\n",
       "    <tr>\n",
       "      <th>2</th>\n",
       "      <td>0.085299</td>\n",
       "      <td>0.050680</td>\n",
       "      <td>0.044451</td>\n",
       "      <td>-0.005670</td>\n",
       "      <td>-0.045599</td>\n",
       "      <td>-0.034194</td>\n",
       "      <td>-0.032356</td>\n",
       "      <td>-0.002592</td>\n",
       "      <td>0.002861</td>\n",
       "      <td>-0.025930</td>\n",
       "      <td>141.0</td>\n",
       "    </tr>\n",
       "    <tr>\n",
       "      <th>3</th>\n",
       "      <td>-0.089063</td>\n",
       "      <td>-0.044642</td>\n",
       "      <td>-0.011595</td>\n",
       "      <td>-0.036656</td>\n",
       "      <td>0.012191</td>\n",
       "      <td>0.024991</td>\n",
       "      <td>-0.036038</td>\n",
       "      <td>0.034309</td>\n",
       "      <td>0.022688</td>\n",
       "      <td>-0.009362</td>\n",
       "      <td>206.0</td>\n",
       "    </tr>\n",
       "    <tr>\n",
       "      <th>4</th>\n",
       "      <td>0.005383</td>\n",
       "      <td>-0.044642</td>\n",
       "      <td>-0.036385</td>\n",
       "      <td>0.021872</td>\n",
       "      <td>0.003935</td>\n",
       "      <td>0.015596</td>\n",
       "      <td>0.008142</td>\n",
       "      <td>-0.002592</td>\n",
       "      <td>-0.031988</td>\n",
       "      <td>-0.046641</td>\n",
       "      <td>135.0</td>\n",
       "    </tr>\n",
       "  </tbody>\n",
       "</table>\n",
       "</div>"
      ],
      "text/plain": [
       "        age       sex       bmi        bp        s1        s2        s3  \\\n",
       "0  0.038076  0.050680  0.061696  0.021872 -0.044223 -0.034821 -0.043401   \n",
       "1 -0.001882 -0.044642 -0.051474 -0.026328 -0.008449 -0.019163  0.074412   \n",
       "2  0.085299  0.050680  0.044451 -0.005670 -0.045599 -0.034194 -0.032356   \n",
       "3 -0.089063 -0.044642 -0.011595 -0.036656  0.012191  0.024991 -0.036038   \n",
       "4  0.005383 -0.044642 -0.036385  0.021872  0.003935  0.015596  0.008142   \n",
       "\n",
       "         s4        s5        s6  Progression  \n",
       "0 -0.002592  0.019907 -0.017646        151.0  \n",
       "1 -0.039493 -0.068332 -0.092204         75.0  \n",
       "2 -0.002592  0.002861 -0.025930        141.0  \n",
       "3  0.034309  0.022688 -0.009362        206.0  \n",
       "4 -0.002592 -0.031988 -0.046641        135.0  "
      ]
     },
     "execution_count": 238,
     "metadata": {},
     "output_type": "execute_result"
    }
   ],
   "source": [
    "#Load the dataset and display first 5 datas\n",
    "diab_df = pd.read_csv(\"diabetes.csv\") \n",
    "diab_df.head()"
   ]
  },
  {
   "cell_type": "code",
   "execution_count": 239,
   "id": "698af451",
   "metadata": {},
   "outputs": [
    {
     "data": {
      "text/plain": [
       "(442, 11)"
      ]
     },
     "execution_count": 239,
     "metadata": {},
     "output_type": "execute_result"
    }
   ],
   "source": [
    "#Checking for null values\n",
    "diab_df.shape"
   ]
  },
  {
   "cell_type": "code",
   "execution_count": 240,
   "id": "73a591c1",
   "metadata": {},
   "outputs": [
    {
     "data": {
      "text/plain": [
       "array([[ 0.03807591,  0.05068012,  0.06169621, ..., -0.04340085,\n",
       "        -0.00259226, -0.01764613],\n",
       "       [-0.00188202, -0.04464164, -0.05147406, ...,  0.07441156,\n",
       "        -0.03949338, -0.09220405],\n",
       "       [ 0.08529891,  0.05068012,  0.04445121, ..., -0.03235593,\n",
       "        -0.00259226, -0.02593034],\n",
       "       ...,\n",
       "       [ 0.04170844,  0.05068012, -0.01590626, ..., -0.02499266,\n",
       "        -0.01107952,  0.01549073],\n",
       "       [-0.04547248, -0.04464164,  0.03906215, ..., -0.02867429,\n",
       "         0.02655962, -0.02593034],\n",
       "       [-0.04547248, -0.04464164, -0.0730303 , ...,  0.17381578,\n",
       "        -0.03949338,  0.00306441]])"
      ]
     },
     "execution_count": 240,
     "metadata": {},
     "output_type": "execute_result"
    }
   ],
   "source": [
    "#Getting independent variable in X.\n",
    "x = diab_df.iloc[:,[0,1,2,3,4,5,6,7,9]].values\n",
    "x"
   ]
  },
  {
   "cell_type": "code",
   "execution_count": 241,
   "id": "f2e43a8d",
   "metadata": {},
   "outputs": [],
   "source": [
    "#Getting dependent variable in y.\n",
    "\n",
    "y = diab_df.iloc[:,10].values\n",
    "y = y.reshape(-1, 1)\n",
    "X = x.reshape(-1, 9)\n"
   ]
  },
  {
   "cell_type": "markdown",
   "id": "385d70ab",
   "metadata": {},
   "source": [
    "### Training and test data"
   ]
  },
  {
   "cell_type": "code",
   "execution_count": 242,
   "id": "6d4d0968",
   "metadata": {},
   "outputs": [
    {
     "name": "stdout",
     "output_type": "stream",
     "text": [
      "Training data: (353, 9) (353, 1)\n",
      "Test data: (89, 9) (89, 1)\n"
     ]
    }
   ],
   "source": [
    "from sklearn.model_selection import train_test_split\n",
    "\n",
    "X_train, X_test, y_train, y_test = train_test_split(X,y,test_size=0.2,shuffle=True)\n",
    "\n",
    "print (\"Training data:\",X_train.shape, y_train.shape)\n",
    "print (\"Test data:\",X_test.shape, y_test.shape)"
   ]
  },
  {
   "cell_type": "markdown",
   "id": "e78619cf",
   "metadata": {},
   "source": [
    "Using a 0.2 test size split our data of 442 items into a training set of 89 observations and nine columns, and a test set of 89 observations.\n"
   ]
  },
  {
   "cell_type": "markdown",
   "id": "0e4d9249",
   "metadata": {},
   "source": [
    "### MinMaxScaler and StandardScaler"
   ]
  },
  {
   "cell_type": "code",
   "execution_count": 243,
   "id": "455de904",
   "metadata": {},
   "outputs": [],
   "source": [
    "#Fit the scaler on train data\n",
    "ms = MinMaxScaler()\n",
    "ms.fit(X_train)\n",
    "\n",
    "\n",
    "# Apply the scaler on train and test data\n",
    "\n",
    "X_train = ms.transform(X_train)\n",
    "X_test = ms.transform(X_test)\n"
   ]
  },
  {
   "cell_type": "code",
   "execution_count": 244,
   "id": "6f524aff",
   "metadata": {},
   "outputs": [],
   "source": [
    "#import StandardScaler\n",
    "from sklearn.preprocessing import StandardScaler"
   ]
  },
  {
   "cell_type": "code",
   "execution_count": 245,
   "id": "fb699ef3",
   "metadata": {},
   "outputs": [],
   "source": [
    "#Create the object\n",
    "std_scaler = StandardScaler()\n",
    "#fit and transform the training set \n",
    "X_train = std_scaler.fit_transform(X_train)\n"
   ]
  },
  {
   "cell_type": "code",
   "execution_count": 246,
   "id": "ccc62fc6",
   "metadata": {},
   "outputs": [],
   "source": [
    "#fit and transform the test set \n",
    "X_test = std_scaler.fit_transform(X_test)\n"
   ]
  },
  {
   "cell_type": "markdown",
   "id": "5d4f1420",
   "metadata": {},
   "source": [
    "### Multiple Regression model using training dataset."
   ]
  },
  {
   "cell_type": "code",
   "execution_count": 247,
   "id": "13ab0894",
   "metadata": {},
   "outputs": [],
   "source": [
    "#fit the model\n",
    "from sklearn.linear_model import LinearRegression\n",
    "lr = LinearRegression()\n",
    "lr = lr.fit(X_train,y_train)\n",
    "\n"
   ]
  },
  {
   "cell_type": "code",
   "execution_count": 248,
   "id": "faab2c59",
   "metadata": {},
   "outputs": [
    {
     "name": "stdout",
     "output_type": "stream",
     "text": [
      "Intercept: \n",
      " [154.30311615]\n",
      "Coefficients: \n",
      " [[ -0.63205983 -10.66019076  25.27356488  15.40178564  48.95367067\n",
      "  -47.94348653 -29.58476333   2.32732114   5.04980454]]\n"
     ]
    }
   ],
   "source": [
    "#print intercept and coefficients for train model\n",
    "i = lr.intercept_\n",
    "c = lr.coef_\n",
    "print('Intercept: \\n', i)\n",
    "print('Coefficients: \\n', c)\n"
   ]
  },
  {
   "cell_type": "markdown",
   "id": "c3528a2e",
   "metadata": {},
   "source": [
    "### predict the test set result"
   ]
  },
  {
   "cell_type": "code",
   "execution_count": 249,
   "id": "96ae51b8",
   "metadata": {},
   "outputs": [],
   "source": [
    "lr = lr.fit(X_test,y_test)\n",
    "y_pred = lr.predict(X_test)\n"
   ]
  },
  {
   "cell_type": "code",
   "execution_count": 250,
   "id": "8aa74d9a",
   "metadata": {},
   "outputs": [
    {
     "data": {
      "text/plain": [
       "array([[159.02335107],\n",
       "       [100.62703281],\n",
       "       [129.32879923],\n",
       "       [127.656188  ],\n",
       "       [191.57009644],\n",
       "       [ 49.8311031 ],\n",
       "       [ 88.54967754],\n",
       "       [156.46248758],\n",
       "       [129.69106278],\n",
       "       [114.58299047]])"
      ]
     },
     "execution_count": 250,
     "metadata": {},
     "output_type": "execute_result"
    }
   ],
   "source": [
    "y_pred[0:10]"
   ]
  },
  {
   "cell_type": "markdown",
   "id": "7ea37e2e",
   "metadata": {},
   "source": [
    "###  r2_score on test data"
   ]
  },
  {
   "cell_type": "code",
   "execution_count": 252,
   "id": "4daf34b6",
   "metadata": {},
   "outputs": [
    {
     "name": "stdout",
     "output_type": "stream",
     "text": [
      "r2_score is : 0.5349474663568761\n"
     ]
    }
   ],
   "source": [
    "#Accuracy on test data\n",
    "from sklearn.metrics import r2_score\n",
    "\n",
    "test_data_accuracy = r2_score(y_test, y_pred)\n",
    "\n",
    "print('r2_score is :',test_data_accuracy)"
   ]
  },
  {
   "cell_type": "code",
   "execution_count": null,
   "id": "ecb998dc",
   "metadata": {},
   "outputs": [],
   "source": []
  }
 ],
 "metadata": {
  "kernelspec": {
   "display_name": "Python 3 (ipykernel)",
   "language": "python",
   "name": "python3"
  },
  "language_info": {
   "codemirror_mode": {
    "name": "ipython",
    "version": 3
   },
   "file_extension": ".py",
   "mimetype": "text/x-python",
   "name": "python",
   "nbconvert_exporter": "python",
   "pygments_lexer": "ipython3",
   "version": "3.9.13"
  }
 },
 "nbformat": 4,
 "nbformat_minor": 5
}
